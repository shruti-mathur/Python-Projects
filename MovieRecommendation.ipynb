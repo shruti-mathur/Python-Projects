{
 "cells": [
  {
   "cell_type": "code",
   "execution_count": 1,
   "metadata": {},
   "outputs": [],
   "source": [
    "movies = {\n",
    "    'action' : ['hulk','ironman','batman','superman','robot'\n",
    "                'aquaman','thor','baahubali','bang bang','avengers'],\n",
    "    'comedy' : ['sanju','dhamaal','fukrey','zero'],\n",
    "    'horror' : ['saw','ring','ring 2','nun'],\n",
    "    'biopic' : ['sanju','ms dhoni']\n",
    "        }"
   ]
  },
  {
   "cell_type": "code",
   "execution_count": 2,
   "metadata": {},
   "outputs": [],
   "source": [
    "user_1 = {'hulk','ironman','batman','superman','aquaman','thor',\n",
    "          'bang bang','sanju','ms dhoni','baahubali'}\n",
    "user_2 = {'baahubali','sanju','thor','hulk','batman','avengers',\n",
    "          'zero','robot','ring','saw'}"
   ]
  },
  {
   "cell_type": "code",
   "execution_count": 3,
   "metadata": {},
   "outputs": [
    {
     "name": "stdout",
     "output_type": "stream",
     "text": [
      "{'thor', 'batman', 'sanju', 'baahubali', 'hulk'}\n"
     ]
    }
   ],
   "source": [
    "similarmovies = user_1.intersection(user_2)\n",
    "print(similarmovies)"
   ]
  },
  {
   "cell_type": "code",
   "execution_count": 4,
   "metadata": {},
   "outputs": [],
   "source": [
    "intersection = len(user_1.intersection(user_2))"
   ]
  },
  {
   "cell_type": "code",
   "execution_count": 5,
   "metadata": {},
   "outputs": [],
   "source": [
    "union = len(user_1.union(user_2))"
   ]
  },
  {
   "cell_type": "code",
   "execution_count": 6,
   "metadata": {},
   "outputs": [
    {
     "name": "stdout",
     "output_type": "stream",
     "text": [
      "Similarity Score 33.33 %\n"
     ]
    }
   ],
   "source": [
    "# Jaccard Distance\n",
    "f = intersection / union\n",
    "print(\"Similarity Score\",round(f*100,2),'%')"
   ]
  },
  {
   "cell_type": "code",
   "execution_count": 8,
   "metadata": {},
   "outputs": [
    {
     "name": "stdout",
     "output_type": "stream",
     "text": [
      "\n",
      "Action : 4\n",
      "Comedy : 1\n",
      "Horror : 0\n",
      "Biopic : 0\n",
      "\n"
     ]
    }
   ],
   "source": [
    "action = 0\n",
    "comedy = 0\n",
    "horror = 0\n",
    "biopic = 0\n",
    "\n",
    "for m in similarmovies:\n",
    "    if m in movies['action']:\n",
    "        action += 1\n",
    "    elif m in movies['comedy']:\n",
    "        comedy += 1\n",
    "    elif m in movies['horror']:\n",
    "        horror += 1\n",
    "    elif m in movies['biopic']:\n",
    "        biopic += 1\n",
    "\n",
    "print(\"\"\"\n",
    "Action : {}\n",
    "Comedy : {}\n",
    "Horror : {}\n",
    "Biopic : {}\n",
    "\"\"\".format(action, comedy, horror, biopic)\n",
    ")"
   ]
  },
  {
   "cell_type": "code",
   "execution_count": null,
   "metadata": {},
   "outputs": [],
   "source": []
  }
 ],
 "metadata": {
  "kernelspec": {
   "display_name": "Python 3",
   "language": "python",
   "name": "python3"
  },
  "language_info": {
   "codemirror_mode": {
    "name": "ipython",
    "version": 3
   },
   "file_extension": ".py",
   "mimetype": "text/x-python",
   "name": "python",
   "nbconvert_exporter": "python",
   "pygments_lexer": "ipython3",
   "version": "3.6.4"
  }
 },
 "nbformat": 4,
 "nbformat_minor": 2
}
