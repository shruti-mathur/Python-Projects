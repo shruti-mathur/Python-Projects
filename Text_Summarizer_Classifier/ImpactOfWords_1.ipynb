{
 "cells": [
  {
   "cell_type": "code",
   "execution_count": 4,
   "metadata": {},
   "outputs": [],
   "source": [
    "def word_1(text):\n",
    "    counts = dict()\n",
    "    words = text.split()\n",
    "    for word in words:\n",
    "        if word in counts:\n",
    "            counts[word] += 1\n",
    "        else:\n",
    "            counts[word] = 1\n",
    "    return counts"
   ]
  },
  {
   "cell_type": "code",
   "execution_count": 7,
   "metadata": {},
   "outputs": [
    {
     "name": "stdout",
     "output_type": "stream",
     "text": [
      "{'Hello': 1, 'this': 1, 'is': 2, 'python.': 1, 'Python': 1, 'used': 1, 'amongst': 1, 'machine': 1, 'learning': 1, 'and': 1, 'data': 1, 'scientist.': 1}\n"
     ]
    }
   ],
   "source": [
    "print(word_1(\"Hello this is python. Python is used amongst machine learning and data scientist.\"))"
   ]
  },
  {
   "cell_type": "code",
   "execution_count": 8,
   "metadata": {},
   "outputs": [],
   "source": [
    "t = \"Hello this is python. Python is used in machine learning and data scientist. Machine learning and data science are very popular these days\""
   ]
  },
  {
   "cell_type": "code",
   "execution_count": 9,
   "metadata": {},
   "outputs": [],
   "source": [
    "sentence = t.split()"
   ]
  },
  {
   "cell_type": "code",
   "execution_count": 10,
   "metadata": {},
   "outputs": [
    {
     "data": {
      "text/plain": [
       "['Hello',\n",
       " 'this',\n",
       " 'is',\n",
       " 'python.',\n",
       " 'Python',\n",
       " 'is',\n",
       " 'used',\n",
       " 'in',\n",
       " 'machine',\n",
       " 'learning',\n",
       " 'and',\n",
       " 'data',\n",
       " 'scientist.',\n",
       " 'Machine',\n",
       " 'learning',\n",
       " 'and',\n",
       " 'data',\n",
       " 'science',\n",
       " 'are',\n",
       " 'very',\n",
       " 'popular',\n",
       " 'these',\n",
       " 'days']"
      ]
     },
     "execution_count": 10,
     "metadata": {},
     "output_type": "execute_result"
    }
   ],
   "source": [
    "sentence"
   ]
  },
  {
   "cell_type": "code",
   "execution_count": 23,
   "metadata": {},
   "outputs": [],
   "source": [
    "def word_2(sentence):\n",
    "    counts = dict()\n",
    "    for word in sentence:\n",
    "        if word in counts:\n",
    "            counts[word] += 1\n",
    "        else:\n",
    "            counts[word] = 1\n",
    "    return counts"
   ]
  },
  {
   "cell_type": "code",
   "execution_count": 24,
   "metadata": {},
   "outputs": [],
   "source": [
    "sen = word_2(sentence)"
   ]
  },
  {
   "cell_type": "code",
   "execution_count": 25,
   "metadata": {},
   "outputs": [
    {
     "name": "stdout",
     "output_type": "stream",
     "text": [
      "{'Hello': 1, 'this': 1, 'is': 2, 'python.': 1, 'Python': 1, 'used': 1, 'in': 1, 'machine': 1, 'learning': 2, 'and': 2, 'data': 2, 'scientist.': 1, 'Machine': 1, 'science': 1, 'are': 1, 'very': 1, 'popular': 1, 'these': 1, 'days': 1}\n"
     ]
    }
   ],
   "source": [
    "print(sen)"
   ]
  },
  {
   "cell_type": "code",
   "execution_count": 26,
   "metadata": {},
   "outputs": [],
   "source": [
    "stopwords = ['is','am','are','the','and','or','in','this','that','for','a','used']\n",
    "list_1 = []\n",
    "list_2 = []\n",
    "for word in sen:\n",
    "    if word not in stopwords:\n",
    "        list_1.append(word)"
   ]
  },
  {
   "cell_type": "code",
   "execution_count": 18,
   "metadata": {},
   "outputs": [
    {
     "data": {
      "text/plain": [
       "['Hello',\n",
       " 'python.',\n",
       " 'Python',\n",
       " 'machine',\n",
       " 'learning',\n",
       " 'data',\n",
       " 'scientist.',\n",
       " 'Machine',\n",
       " 'science',\n",
       " 'very',\n",
       " 'popular',\n",
       " 'these',\n",
       " 'days']"
      ]
     },
     "execution_count": 18,
     "metadata": {},
     "output_type": "execute_result"
    }
   ],
   "source": [
    "list_1"
   ]
  },
  {
   "cell_type": "code",
   "execution_count": null,
   "metadata": {},
   "outputs": [],
   "source": []
  }
 ],
 "metadata": {
  "kernelspec": {
   "display_name": "Python 3",
   "language": "python",
   "name": "python3"
  },
  "language_info": {
   "codemirror_mode": {
    "name": "ipython",
    "version": 3
   },
   "file_extension": ".py",
   "mimetype": "text/x-python",
   "name": "python",
   "nbconvert_exporter": "python",
   "pygments_lexer": "ipython3",
   "version": "3.6.4"
  }
 },
 "nbformat": 4,
 "nbformat_minor": 2
}
