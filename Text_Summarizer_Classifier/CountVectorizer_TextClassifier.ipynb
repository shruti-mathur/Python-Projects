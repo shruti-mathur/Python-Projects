{
 "cells": [
  {
   "cell_type": "code",
   "execution_count": 1,
   "metadata": {},
   "outputs": [],
   "source": [
    "from sklearn.datasets import fetch_20newsgroups"
   ]
  },
  {
   "cell_type": "code",
   "execution_count": 3,
   "metadata": {},
   "outputs": [],
   "source": [
    "map_1 = {'misc.forsale' : 'Sales',\n",
    "        'rec.motorcycles' : 'Motorcycles',\n",
    "        'rec.sport.baseball' : 'Baseball',\n",
    "        'sci.crypt' : 'Cryptography',\n",
    "        'sci.space' : 'Space'}\n",
    "training_data = fetch_20newsgroups(subset = 'train', categories = map_1.keys())"
   ]
  },
  {
   "cell_type": "code",
   "execution_count": 4,
   "metadata": {},
   "outputs": [
    {
     "data": {
      "text/plain": [
       "dict_keys(['data', 'filenames', 'target_names', 'target', 'DESCR', 'description'])"
      ]
     },
     "execution_count": 4,
     "metadata": {},
     "output_type": "execute_result"
    }
   ],
   "source": [
    "training_data.keys()"
   ]
  },
  {
   "cell_type": "code",
   "execution_count": 5,
   "metadata": {},
   "outputs": [],
   "source": [
    "from sklearn.feature_extraction.text import CountVectorizer"
   ]
  },
  {
   "cell_type": "code",
   "execution_count": 6,
   "metadata": {},
   "outputs": [
    {
     "name": "stdout",
     "output_type": "stream",
     "text": [
      "Dimensions : (2968, 40605)\n"
     ]
    }
   ],
   "source": [
    "v = CountVectorizer()\n",
    "X_train = v.fit_transform(training_data.data)\n",
    "print('Dimensions :', X_train.shape)"
   ]
  },
  {
   "cell_type": "code",
   "execution_count": 7,
   "metadata": {},
   "outputs": [
    {
     "data": {
      "text/plain": [
       "array([2, 2, 2, ..., 2, 4, 4], dtype=int64)"
      ]
     },
     "execution_count": 7,
     "metadata": {},
     "output_type": "execute_result"
    }
   ],
   "source": [
    "training_data.target"
   ]
  },
  {
   "cell_type": "code",
   "execution_count": 8,
   "metadata": {},
   "outputs": [],
   "source": [
    "from sklearn.naive_bayes import MultinomialNB\n",
    "from sklearn.feature_extraction.text import TfidfTransformer"
   ]
  },
  {
   "cell_type": "code",
   "execution_count": 9,
   "metadata": {},
   "outputs": [],
   "source": [
    "input_data = [\"The one holds a bat and another holds a ball\",\n",
    "            \"I was riding my bike on mountain\",\n",
    "            \"ISRO is helping India to reach Mars\"]"
   ]
  },
  {
   "cell_type": "code",
   "execution_count": 12,
   "metadata": {},
   "outputs": [],
   "source": [
    "tfidf = TfidfTransformer()\n",
    "X_train_tfidf = tfidf.fit_transform(X_train)\n",
    "classifier = MultinomialNB()\n",
    "classifier.fit(X_train_tfidf, training_data.target)\n",
    "\n",
    "X_input = v.transform(input_data)\n",
    "X_input_tfidf = tfidf.transform(X_input)"
   ]
  },
  {
   "cell_type": "code",
   "execution_count": 13,
   "metadata": {},
   "outputs": [],
   "source": [
    "predicted_categories = classifier.predict(X_input_tfidf)"
   ]
  },
  {
   "cell_type": "code",
   "execution_count": 15,
   "metadata": {},
   "outputs": [
    {
     "name": "stdout",
     "output_type": "stream",
     "text": [
      "\n",
      " Input : The one holds a bat and another holds a ball \n",
      " Predicted Category : Baseball\n",
      "\n",
      " Input : I was riding my bike on mountain \n",
      " Predicted Category : Motorcycles\n",
      "\n",
      " Input : ISRO is helping India to reach Mars \n",
      " Predicted Category : Space\n"
     ]
    }
   ],
   "source": [
    "for sentence, category in zip(input_data, predicted_categories):\n",
    "    print(\"\\n Input :\",sentence, \"\\n Predicted Category :\", map_1[training_data.target_names[category]])"
   ]
  },
  {
   "cell_type": "code",
   "execution_count": null,
   "metadata": {},
   "outputs": [],
   "source": []
  }
 ],
 "metadata": {
  "kernelspec": {
   "display_name": "Python 3",
   "language": "python",
   "name": "python3"
  },
  "language_info": {
   "codemirror_mode": {
    "name": "ipython",
    "version": 3
   },
   "file_extension": ".py",
   "mimetype": "text/x-python",
   "name": "python",
   "nbconvert_exporter": "python",
   "pygments_lexer": "ipython3",
   "version": "3.6.4"
  }
 },
 "nbformat": 4,
 "nbformat_minor": 2
}
