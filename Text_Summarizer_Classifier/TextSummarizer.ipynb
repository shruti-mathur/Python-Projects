{
 "cells": [
  {
   "cell_type": "code",
   "execution_count": 6,
   "metadata": {},
   "outputs": [],
   "source": [
    "import nltk\n",
    "from nltk.tokenize import word_tokenize, sent_tokenize\n",
    "from nltk.corpus import stopwords\n",
    "from nltk.stem import WordNetLemmatizer, PorterStemmer"
   ]
  },
  {
   "cell_type": "code",
   "execution_count": 7,
   "metadata": {},
   "outputs": [],
   "source": [
    "text = \"\"\"\n",
    "I’ve been asked by a few friends to develop a feature for a\n",
    "WhatsApp chatbot of mine, that summarizes articles based on\n",
    "URL inputs. So when a friend sends an article to a WhatsApp\n",
    "group, the bot will reply with a summary of the given URL\n",
    "article. I like this feature because from my personal\n",
    "research, 65% of group users don’t even click the shared URLs,\n",
    "but 97% of them will read a few lines of the articles summary.\n",
    "As part of being a Fullstack developer, it is important to\n",
    "know how to choose the right stack for each product you\n",
    "develop, depending on the requirements and limitations.\n",
    "For web crawling, I love using Python. The Python community\n",
    "is filled with efficient, easy to implement open source\n",
    "libraries both for web crawling and text summarization.\n",
    "Once you’re done with this tutorial, you won’t believe how\n",
    "simple it is to implement the task.\n",
    "\"\"\""
   ]
  },
  {
   "cell_type": "code",
   "execution_count": 8,
   "metadata": {},
   "outputs": [],
   "source": [
    "words = word_tokenize(text)\n",
    "sentences = sent_tokenize(text)\n",
    "stopwords = set(stopwords.words(\"english\"))\n",
    "w_net = WordNetLemmatizer()"
   ]
  },
  {
   "cell_type": "code",
   "execution_count": 12,
   "metadata": {},
   "outputs": [],
   "source": [
    "freq_table = dict()\n",
    "for word in words:\n",
    "    word = word.lower()\n",
    "    if word in stopwords:\n",
    "        continue\n",
    "    word = w_net.lemmatize(word, pos='v')\n",
    "    if word in freq_table:\n",
    "        freq_table[word] += 1\n",
    "    else:\n",
    "        freq_table[word] = 1"
   ]
  },
  {
   "cell_type": "code",
   "execution_count": 10,
   "metadata": {},
   "outputs": [
    {
     "name": "stdout",
     "output_type": "stream",
     "text": [
      "{'’': 4, 'ask': 1, 'friends': 1, 'develop': 2, 'feature': 2, 'whatsapp': 2, 'chatbot': 1, 'mine': 1, ',': 9, 'summarize': 1, 'article': 4, 'base': 1, 'url': 2, 'input': 1, '.': 7, 'friend': 1, 'send': 1, 'group': 2, 'bot': 1, 'reply': 1, 'summary': 2, 'give': 1, 'like': 1, 'personal': 1, 'research': 1, '65': 1, '%': 2, 'users': 1, 'even': 1, 'click': 1, 'share': 1, 'urls': 1, '97': 1, 'read': 1, 'line': 1, 'part': 1, 'fullstack': 1, 'developer': 1, 'important': 1, 'know': 1, 'choose': 1, 'right': 1, 'stack': 1, 'product': 1, 'depend': 1, 'requirements': 1, 'limitations': 1, 'web': 2, 'crawl': 2, 'love': 1, 'use': 1, 'python': 2, 'community': 1, 'fill': 1, 'efficient': 1, 'easy': 1, 'implement': 2, 'open': 1, 'source': 1, 'libraries': 1, 'text': 1, 'summarization': 1, 'do': 1, 'tutorial': 1, 'believe': 1, 'simple': 1, 'task': 1}\n"
     ]
    }
   ],
   "source": [
    "print(freq_table)"
   ]
  },
  {
   "cell_type": "code",
   "execution_count": 13,
   "metadata": {},
   "outputs": [
    {
     "name": "stdout",
     "output_type": "stream",
     "text": [
      "['\\nI’ve been asked by a few friends to develop a feature for a\\nWhatsApp chatbot of mine, that summarizes articles based on\\nURL inputs.', 'So when a friend sends an article to a WhatsApp\\ngroup, the bot will reply with a summary of the given URL\\narticle.', 'I like this feature because from my personal\\nresearch, 65% of group users don’t even click the shared URLs,\\nbut 97% of them will read a few lines of the articles summary.', 'As part of being a Fullstack developer, it is important to\\nknow how to choose the right stack for each product you\\ndevelop, depending on the requirements and limitations.', 'For web crawling, I love using Python.', 'The Python community\\nis filled with efficient, easy to implement open source\\nlibraries both for web crawling and text summarization.', 'Once you’re done with this tutorial, you won’t believe how\\nsimple it is to implement the task.']\n"
     ]
    }
   ],
   "source": [
    "print(sentences)"
   ]
  },
  {
   "cell_type": "code",
   "execution_count": 14,
   "metadata": {},
   "outputs": [
    {
     "data": {
      "text/plain": [
       "7"
      ]
     },
     "execution_count": 14,
     "metadata": {},
     "output_type": "execute_result"
    }
   ],
   "source": [
    "len(sentences)"
   ]
  },
  {
   "cell_type": "code",
   "execution_count": 16,
   "metadata": {},
   "outputs": [],
   "source": [
    "sent_table = dict()\n",
    "for sentence in sentences:\n",
    "    for word, freq in freq_table.items():\n",
    "        if word in sentence:\n",
    "            if sentence in sent_table:\n",
    "                sent_table[sentence] += freq\n",
    "            else:\n",
    "                sent_table[sentence] = freq"
   ]
  },
  {
   "cell_type": "code",
   "execution_count": 17,
   "metadata": {},
   "outputs": [
    {
     "name": "stdout",
     "output_type": "stream",
     "text": [
      "{'\\nI’ve been asked by a few friends to develop a feature for a\\nWhatsApp chatbot of mine, that summarizes articles based on\\nURL inputs.': 37, 'So when a friend sends an article to a WhatsApp\\ngroup, the bot will reply with a summary of the given URL\\narticle.': 29, 'I like this feature because from my personal\\nresearch, 65% of group users don’t even click the shared URLs,\\nbut 97% of them will read a few lines of the articles summary.': 45, 'As part of being a Fullstack developer, it is important to\\nknow how to choose the right stack for each product you\\ndevelop, depending on the requirements and limitations.': 29, 'For web crawling, I love using Python.': 21, 'The Python community\\nis filled with efficient, easy to implement open source\\nlibraries both for web crawling and text summarization.': 32, 'Once you’re done with this tutorial, you won’t believe how\\nsimple it is to implement the task.': 28}\n"
     ]
    }
   ],
   "source": [
    "print(sent_table)"
   ]
  },
  {
   "cell_type": "code",
   "execution_count": 24,
   "metadata": {},
   "outputs": [],
   "source": [
    "#for freq in freq_table:\n",
    " #   if freq[freq_table.items] > 30:\n",
    "  #      print(freq)\n",
    "sum_value = 0\n",
    "for s in sent_table.values():\n",
    "    sum_value += s"
   ]
  },
  {
   "cell_type": "code",
   "execution_count": 25,
   "metadata": {},
   "outputs": [
    {
     "data": {
      "text/plain": [
       "221"
      ]
     },
     "execution_count": 25,
     "metadata": {},
     "output_type": "execute_result"
    }
   ],
   "source": [
    "sum_value"
   ]
  },
  {
   "cell_type": "code",
   "execution_count": 26,
   "metadata": {},
   "outputs": [],
   "source": [
    "avg = int(sum_value / len(sent_table))"
   ]
  },
  {
   "cell_type": "code",
   "execution_count": 27,
   "metadata": {},
   "outputs": [
    {
     "data": {
      "text/plain": [
       "31"
      ]
     },
     "execution_count": 27,
     "metadata": {},
     "output_type": "execute_result"
    }
   ],
   "source": [
    "avg"
   ]
  },
  {
   "cell_type": "code",
   "execution_count": 29,
   "metadata": {},
   "outputs": [],
   "source": [
    "summary = \"\"\n",
    "\n",
    "for sentence in sentences:\n",
    "    if sent_table[sentence] > avg * 1.2 and sentence in sent_table:\n",
    "        summary += sentence"
   ]
  },
  {
   "cell_type": "code",
   "execution_count": 30,
   "metadata": {},
   "outputs": [
    {
     "name": "stdout",
     "output_type": "stream",
     "text": [
      "I like this feature because from my personal\n",
      "research, 65% of group users don’t even click the shared URLs,\n",
      "but 97% of them will read a few lines of the articles summary.\n"
     ]
    }
   ],
   "source": [
    "print(summary)"
   ]
  },
  {
   "cell_type": "code",
   "execution_count": null,
   "metadata": {},
   "outputs": [],
   "source": []
  }
 ],
 "metadata": {
  "kernelspec": {
   "display_name": "Python 3",
   "language": "python",
   "name": "python3"
  },
  "language_info": {
   "codemirror_mode": {
    "name": "ipython",
    "version": 3
   },
   "file_extension": ".py",
   "mimetype": "text/x-python",
   "name": "python",
   "nbconvert_exporter": "python",
   "pygments_lexer": "ipython3",
   "version": "3.6.4"
  }
 },
 "nbformat": 4,
 "nbformat_minor": 2
}
