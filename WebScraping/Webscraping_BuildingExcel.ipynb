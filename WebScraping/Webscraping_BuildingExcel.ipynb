{
 "cells": [
  {
   "cell_type": "code",
   "execution_count": 1,
   "metadata": {},
   "outputs": [],
   "source": [
    "import bs4\n",
    "from urllib.request import urlopen as ureq\n",
    "from bs4 import BeautifulSoup as Soup"
   ]
  },
  {
   "cell_type": "code",
   "execution_count": 3,
   "metadata": {},
   "outputs": [],
   "source": [
    "my_url = 'https://www.newegg.com/Laptops-Notebooks/Category/ID-223?Tpk=laptops'"
   ]
  },
  {
   "cell_type": "code",
   "execution_count": 4,
   "metadata": {},
   "outputs": [
    {
     "data": {
      "text/plain": [
       "'https://www.newegg.com/Laptops-Notebooks/Category/ID-223?Tpk=laptops'"
      ]
     },
     "execution_count": 4,
     "metadata": {},
     "output_type": "execute_result"
    }
   ],
   "source": [
    "my_url"
   ]
  },
  {
   "cell_type": "code",
   "execution_count": 6,
   "metadata": {},
   "outputs": [],
   "source": [
    "# opening up the connection, grabbing the page\n",
    "x = ureq(my_url)"
   ]
  },
  {
   "cell_type": "code",
   "execution_count": 7,
   "metadata": {},
   "outputs": [],
   "source": [
    "page_html = x.read()"
   ]
  },
  {
   "cell_type": "code",
   "execution_count": 8,
   "metadata": {},
   "outputs": [],
   "source": [
    "x.close()"
   ]
  },
  {
   "cell_type": "code",
   "execution_count": 10,
   "metadata": {},
   "outputs": [],
   "source": [
    "# html parsing\n",
    "page_soup = Soup(page_html, \"html.parser\")"
   ]
  },
  {
   "cell_type": "code",
   "execution_count": 11,
   "metadata": {},
   "outputs": [
    {
     "data": {
      "text/plain": [
       "<h1 class=\"page-title-text\">Laptops / Notebooks</h1>"
      ]
     },
     "execution_count": 11,
     "metadata": {},
     "output_type": "execute_result"
    }
   ],
   "source": [
    "page_soup.h1"
   ]
  },
  {
   "cell_type": "code",
   "execution_count": 12,
   "metadata": {},
   "outputs": [
    {
     "data": {
      "text/plain": [
       "<p>Newegg.com - A great place to buy computers, computer parts, electronics, software, accessories, and DVDs online. With great prices, fast shipping, and top-rated customer service - Newegg shopping upgraded ™</p>"
      ]
     },
     "execution_count": 12,
     "metadata": {},
     "output_type": "execute_result"
    }
   ],
   "source": [
    "page_soup.p"
   ]
  },
  {
   "cell_type": "code",
   "execution_count": 13,
   "metadata": {},
   "outputs": [
    {
     "data": {
      "text/plain": [
       "<span class=\"noCSS\">Skip to:</span>"
      ]
     },
     "execution_count": 13,
     "metadata": {},
     "output_type": "execute_result"
    }
   ],
   "source": [
    "page_soup.body.span"
   ]
  },
  {
   "cell_type": "code",
   "execution_count": 14,
   "metadata": {},
   "outputs": [],
   "source": [
    "# grabs each product\n",
    "containers = page_soup.findAll(\"div\", {\"class\": \"item-container\"})"
   ]
  },
  {
   "cell_type": "code",
   "execution_count": 15,
   "metadata": {},
   "outputs": [
    {
     "data": {
      "text/plain": [
       "12"
      ]
     },
     "execution_count": 15,
     "metadata": {},
     "output_type": "execute_result"
    }
   ],
   "source": [
    "len(containers)"
   ]
  },
  {
   "cell_type": "code",
   "execution_count": 16,
   "metadata": {},
   "outputs": [
    {
     "data": {
      "text/plain": [
       "<div class=\"item-container \">\n",
       "<!--product image-->\n",
       "<a class=\"item-img\" href=\"https://www.newegg.com/icicle-silver-metal-asus-zenbook-ux533fd-ns76-gaming-entertainment/p/N82E16834235117?Item=N82E16834235117\">\n",
       "<div class=\"item-badges\">\n",
       "</div>\n",
       "<img alt='ASUS ZenBook15.6\" Intel Whiskey Lake i7-8565U, 16 GB DDR4, 1 TB PCIe SSD, GTX 1050, IR Camera, Windows 10 Pro - Icicle Silver Ultra Slim Compact FHD 4-Way NanoEdge - UX533FD-NS76 Newegg Exclusive' class=\" lazy-img\" data-effect=\"fadeIn\" data-src=\"//c1.neweggimages.com/NeweggImage/ProductImageCompressAll300/34-235-117-V01.jpg\" src=\"//c1.neweggimages.com/WebResource/Themes/2005/Nest/blank.gif\" title='ASUS ZenBook15.6\" Intel Whiskey Lake i7-8565U, 16 GB DDR4, 1 TB PCIe SSD, GTX 1050, IR Camera, Windows 10 Pro - Icicle Silver Ultra Slim Compact FHD 4-Way NanoEdge - UX533FD-NS76 Newegg Exclusive'>\n",
       "</img></a>\n",
       "<div class=\"item-info\">\n",
       "<!--brand info-->\n",
       "<div class=\"item-branding\">\n",
       "<a class=\"item-brand\" href=\"https://www.newegg.com/ASUS/BrandStore/ID-1315\">\n",
       "<img alt=\"ASUS\" class=\" lazy-img\" data-effect=\"fadeIn\" data-src=\"//c1.neweggimages.com/Brandimage_70x28//Brand1315.gif\" src=\"//c1.neweggimages.com/WebResource/Themes/2005/Nest/blank.gif\" title=\"ASUS\">\n",
       "</img></a>\n",
       "<!--rating info-->\n",
       "<a class=\"item-rating\" href=\"https://www.newegg.com/icicle-silver-metal-asus-zenbook-ux533fd-ns76-gaming-entertainment/p/N82E16834235117?Item=N82E16834235117&amp;SortField=0&amp;SummaryType=0&amp;PageSize=10&amp;SelectedRating=-1&amp;VideoOnlyMark=False&amp;IsFeedbackTab=true#scrollFullInfo\" title=\"Rating + 4\"><i class=\"rating rating-4\"></i><span class=\"item-rating-num\">(6)</span></a>\n",
       "</div>\n",
       "<!--description info-->\n",
       "<a class=\"item-title\" href=\"https://www.newegg.com/icicle-silver-metal-asus-zenbook-ux533fd-ns76-gaming-entertainment/p/N82E16834235117?Item=N82E16834235117\" title=\"View Details\"><i class=\"icon-premier icon-premier-xsm\"></i>ASUS ZenBook UX533 Ultra Slim Compact Laptop, 15.6\" FHD 4-Way NanoEdge, Intel Core i7-8565U, 16GB DDR4, 1TB PCIe SSD, GeForce GTX 1050, IR Camera, TPM, Windows 10 Pro, Icicle Silver, UX533FD-NS76 Newe</a>\n",
       "<!--promption info-->\n",
       "<p class=\"item-promo\"></p>\n",
       "<!--feature-->\n",
       "<ul class=\"item-features\">\n",
       "<li><strong>Type:</strong> Gaming &amp; Entertainment</li><li><strong>Resolution:</strong> 1920 x 1080</li><li><strong>Weight:</strong> 3.68 lbs.</li><li><strong>Graphics Card:</strong> NVIDIA GeForce GTX 1050 Max-Q</li>\n",
       "<li><strong>Model #: </strong>UX533FD-NS76</li>\n",
       "<li><strong>Item #: </strong>N82E16834235117</li>\n",
       "</ul>\n",
       "<div class=\"item-action\">\n",
       "<!--price-->\n",
       "<ul class=\"price has-label-membership \">\n",
       "<li class=\"price-was\">\n",
       "       $1,499.99\n",
       "            <span class=\"price-was-data\" style=\"display: none\">1499.99</span>\n",
       "</li>\n",
       "<li class=\"price-map\">\n",
       "</li>\n",
       "<li class=\"price-current\">\n",
       "<span class=\"price-current-label\">\n",
       "<a aria-label=\"Premier Price Explaination\" class=\"membership-info membership-popup\" data-neg-popid=\"MembershipPopup\" href=\"javascript:void(0);\" name=\"membership\" style=\"display: inline\"><span class=\"membership-icon\"></span><span style=\"display: none\">|</span></a>\n",
       "</span>$<strong>1,199</strong><sup>.99</sup> \n",
       "            <span class=\"price-current-range\">\n",
       "<abbr title=\"to\">–</abbr>\n",
       "</span>\n",
       "</li>\n",
       "<li class=\"price-save \">\n",
       "<span class=\"price-save-endtime price-save-endtime-current\"><strong>Sale Ends in 3 Days (Thu)</strong> - </span>\n",
       "<span class=\"price-save-endtime price-save-endtime-another\" style=\"display:none;\"><strong>Sale Ends in 06/13</strong> - </span>\n",
       "<span class=\"price-save-label\">Save: </span>\n",
       "<span class=\"price-save-dollar\"></span>\n",
       "<span class=\"price-save-percent\">20%</span>\n",
       "</li>\n",
       "<li class=\"price-note\">\n",
       "</li>\n",
       "<li class=\"price-ship\">\n",
       "        Free Shipping\n",
       "    </li>\n",
       "</ul>\n",
       "<!--egg point-->\n",
       "<!--financing-->\n",
       "<!--button-->\n",
       "<div class=\"item-operate hidden-action-button \">\n",
       "<div class=\"item-button-area\">\n",
       "<button class=\"btn btn-mini \" onclick=\"Javascript:Biz.ProductList.Item.add('https://www.newegg.com/icicle-silver-metal-asus-zenbook-ux533fd-ns76-gaming-entertainment/p/N82E16834235117?Item=N82E16834235117');\" title=\"View Details\" type=\"button\">View Details <i class=\"fa fa-caret-right\"></i></button>\n",
       "</div>\n",
       "<!--compare-->\n",
       "<div class=\"item-compare-box\">\n",
       "<label class=\"form-checkbox\">\n",
       "<input autocomplete=\"off\" id=\"CompareItem_34-235-117\" name=\"CompareItem\" neg-itemnumber=\"34-235-117\" type=\"checkbox\" value=\"CompareItem_34-235-117\"/>\n",
       "<span class=\"form-checkbox-title\">Compare</span>\n",
       "</label>\n",
       "</div>\n",
       "<script type=\"text/javascript\">\n",
       "                        Biz.Product.CompareConfig.compareItems.push(\"34-235-117\");\n",
       "                        var itemThumbs = new Object();\n",
       "                        itemThumbs.itemNumber = \"34-235-117\";\n",
       "                        itemThumbs.imageUrl = \"//c1.neweggimages.com/ProductImageCompressAll35/34-235-117-V01.jpg\";\n",
       "                        Biz.Product.CompareConfig.Thumbs.push(itemThumbs);\n",
       "                    </script>\n",
       "</div>\n",
       "</div>\n",
       "</div>\n",
       "</div>"
      ]
     },
     "execution_count": 16,
     "metadata": {},
     "output_type": "execute_result"
    }
   ],
   "source": [
    "containers[0]"
   ]
  },
  {
   "cell_type": "code",
   "execution_count": 17,
   "metadata": {},
   "outputs": [],
   "source": [
    "contain = containers[0]"
   ]
  },
  {
   "cell_type": "code",
   "execution_count": 18,
   "metadata": {},
   "outputs": [],
   "source": [
    "container = containers[0]"
   ]
  },
  {
   "cell_type": "code",
   "execution_count": 19,
   "metadata": {},
   "outputs": [
    {
     "data": {
      "text/plain": [
       "<a class=\"item-img\" href=\"https://www.newegg.com/icicle-silver-metal-asus-zenbook-ux533fd-ns76-gaming-entertainment/p/N82E16834235117?Item=N82E16834235117\">\n",
       "<div class=\"item-badges\">\n",
       "</div>\n",
       "<img alt='ASUS ZenBook15.6\" Intel Whiskey Lake i7-8565U, 16 GB DDR4, 1 TB PCIe SSD, GTX 1050, IR Camera, Windows 10 Pro - Icicle Silver Ultra Slim Compact FHD 4-Way NanoEdge - UX533FD-NS76 Newegg Exclusive' class=\" lazy-img\" data-effect=\"fadeIn\" data-src=\"//c1.neweggimages.com/NeweggImage/ProductImageCompressAll300/34-235-117-V01.jpg\" src=\"//c1.neweggimages.com/WebResource/Themes/2005/Nest/blank.gif\" title='ASUS ZenBook15.6\" Intel Whiskey Lake i7-8565U, 16 GB DDR4, 1 TB PCIe SSD, GTX 1050, IR Camera, Windows 10 Pro - Icicle Silver Ultra Slim Compact FHD 4-Way NanoEdge - UX533FD-NS76 Newegg Exclusive'>\n",
       "</img></a>"
      ]
     },
     "execution_count": 19,
     "metadata": {},
     "output_type": "execute_result"
    }
   ],
   "source": [
    "container.a"
   ]
  },
  {
   "cell_type": "code",
   "execution_count": 20,
   "metadata": {},
   "outputs": [
    {
     "data": {
      "text/plain": [
       "<div class=\"item-badges\">\n",
       "</div>"
      ]
     },
     "execution_count": 20,
     "metadata": {},
     "output_type": "execute_result"
    }
   ],
   "source": [
    "container.div"
   ]
  },
  {
   "cell_type": "code",
   "execution_count": 22,
   "metadata": {},
   "outputs": [
    {
     "data": {
      "text/plain": [
       "<img alt='ASUS ZenBook15.6\" Intel Whiskey Lake i7-8565U, 16 GB DDR4, 1 TB PCIe SSD, GTX 1050, IR Camera, Windows 10 Pro - Icicle Silver Ultra Slim Compact FHD 4-Way NanoEdge - UX533FD-NS76 Newegg Exclusive' class=\" lazy-img\" data-effect=\"fadeIn\" data-src=\"//c1.neweggimages.com/NeweggImage/ProductImageCompressAll300/34-235-117-V01.jpg\" src=\"//c1.neweggimages.com/WebResource/Themes/2005/Nest/blank.gif\" title='ASUS ZenBook15.6\" Intel Whiskey Lake i7-8565U, 16 GB DDR4, 1 TB PCIe SSD, GTX 1050, IR Camera, Windows 10 Pro - Icicle Silver Ultra Slim Compact FHD 4-Way NanoEdge - UX533FD-NS76 Newegg Exclusive'>\n",
       "</img>"
      ]
     },
     "execution_count": 22,
     "metadata": {},
     "output_type": "execute_result"
    }
   ],
   "source": [
    "container.img"
   ]
  },
  {
   "cell_type": "code",
   "execution_count": 23,
   "metadata": {},
   "outputs": [
    {
     "data": {
      "text/plain": [
       "'ASUS ZenBook15.6\" Intel Whiskey Lake i7-8565U, 16 GB DDR4, 1 TB PCIe SSD, GTX 1050, IR Camera, Windows 10 Pro - Icicle Silver Ultra Slim Compact FHD 4-Way NanoEdge - UX533FD-NS76 Newegg Exclusive'"
      ]
     },
     "execution_count": 23,
     "metadata": {},
     "output_type": "execute_result"
    }
   ],
   "source": [
    "container.img[\"title\"]"
   ]
  },
  {
   "cell_type": "code",
   "execution_count": 25,
   "metadata": {},
   "outputs": [],
   "source": [
    "title_container = container.findAll(\"a\", {\"class\": \"item-title\"})"
   ]
  },
  {
   "cell_type": "code",
   "execution_count": 26,
   "metadata": {},
   "outputs": [
    {
     "data": {
      "text/plain": [
       "[<a class=\"item-title\" href=\"https://www.newegg.com/icicle-silver-metal-asus-zenbook-ux533fd-ns76-gaming-entertainment/p/N82E16834235117?Item=N82E16834235117\" title=\"View Details\"><i class=\"icon-premier icon-premier-xsm\"></i>ASUS ZenBook UX533 Ultra Slim Compact Laptop, 15.6\" FHD 4-Way NanoEdge, Intel Core i7-8565U, 16GB DDR4, 1TB PCIe SSD, GeForce GTX 1050, IR Camera, TPM, Windows 10 Pro, Icicle Silver, UX533FD-NS76 Newe</a>]"
      ]
     },
     "execution_count": 26,
     "metadata": {},
     "output_type": "execute_result"
    }
   ],
   "source": [
    "title_container"
   ]
  },
  {
   "cell_type": "code",
   "execution_count": 27,
   "metadata": {},
   "outputs": [
    {
     "data": {
      "text/plain": [
       "'ASUS ZenBook UX533 Ultra Slim Compact Laptop, 15.6\" FHD 4-Way NanoEdge, Intel Core i7-8565U, 16GB DDR4, 1TB PCIe SSD, GeForce GTX 1050, IR Camera, TPM, Windows 10 Pro, Icicle Silver, UX533FD-NS76 Newe'"
      ]
     },
     "execution_count": 27,
     "metadata": {},
     "output_type": "execute_result"
    }
   ],
   "source": [
    "title_container[0].text"
   ]
  },
  {
   "cell_type": "code",
   "execution_count": 28,
   "metadata": {},
   "outputs": [],
   "source": [
    "shipping_container = container.findAll(\"li\", {\"class\": \"price-ship\"})"
   ]
  },
  {
   "cell_type": "code",
   "execution_count": 29,
   "metadata": {},
   "outputs": [
    {
     "data": {
      "text/plain": [
       "[<li class=\"price-ship\">\n",
       "         Free Shipping\n",
       "     </li>]"
      ]
     },
     "execution_count": 29,
     "metadata": {},
     "output_type": "execute_result"
    }
   ],
   "source": [
    "shipping_container"
   ]
  },
  {
   "cell_type": "code",
   "execution_count": 30,
   "metadata": {},
   "outputs": [
    {
     "data": {
      "text/plain": [
       "'\\r\\n        Free Shipping\\r\\n    '"
      ]
     },
     "execution_count": 30,
     "metadata": {},
     "output_type": "execute_result"
    }
   ],
   "source": [
    "shipping_container[0].text"
   ]
  },
  {
   "cell_type": "code",
   "execution_count": 31,
   "metadata": {},
   "outputs": [
    {
     "data": {
      "text/plain": [
       "'Free Shipping'"
      ]
     },
     "execution_count": 31,
     "metadata": {},
     "output_type": "execute_result"
    }
   ],
   "source": [
    "shipping_container[0].text.strip()"
   ]
  },
  {
   "cell_type": "code",
   "execution_count": 39,
   "metadata": {},
   "outputs": [
    {
     "data": {
      "text/plain": [
       "7"
      ]
     },
     "execution_count": 39,
     "metadata": {},
     "output_type": "execute_result"
    }
   ],
   "source": [
    "filename = \"products.csv\"\n",
    "f = open(filename, \"w\")\n",
    "\n",
    "headers = (\"brand, product_name, shipping\\n\")\n",
    "f.write(\"headers\")"
   ]
  },
  {
   "cell_type": "code",
   "execution_count": 40,
   "metadata": {},
   "outputs": [
    {
     "name": "stdout",
     "output_type": "stream",
     "text": [
      "brand: ASUS ZenBook15.6\" Intel Whiskey Lake i7-8565U, 16 GB DDR4, 1 TB PCIe SSD, GTX 1050, IR Camera, Windows 10 Pro - Icicle Silver Ultra Slim Compact FHD 4-Way NanoEdge - UX533FD-NS76 Newegg Exclusive\n",
      "product_name: ASUS ZenBook UX533 Ultra Slim Compact Laptop, 15.6\" FHD 4-Way NanoEdge, Intel Core i7-8565U, 16GB DDR4, 1TB PCIe SSD, GeForce GTX 1050, IR Camera, TPM, Windows 10 Pro, Icicle Silver, UX533FD-NS76 Newe\n",
      "shipping: Free Shipping\n",
      "brand: Acer Aspire 3 15.6\" - AMD Ryzen 7 2700U Quad-core (4 Core) 2.20 GHz - 8 GB DDR4 SDRAM - 256 GB SSD - Windows 10 Home 64-bit - 1920 x 1080 - A315-41-R14K - NX.GY9AA.014 - Obsidian Black\n",
      "product_name: Acer Aspire 3 15.6\" - AMD Ryzen 7 2700U Quad-core (4 Core) 2.20 GHz - 8 GB DDR4 SDRAM - 256 GB SSD - Windows 10 Home 64-bit - 1920 x 1080 - A315-41-R14K - NX.GY9AA.014 - Obsidian Black\n",
      "shipping: $2.99 Shipping\n",
      "brand: Lenovo Laptop IdeaPad L340 81LG0011US Intel Core i5 8th Gen 8265U (1.60 GHz) 8 GB Memory 256 GB SSD Intel UHD Graphics 620 15.6\" Windows 10 Home 64-bit(Newegg EXCLUSIVE)\n",
      "product_name: Lenovo Laptop IdeaPad L340 81LG0011US Intel Core i5 8th Gen 8265U (1.60 GHz) 8 GB Memory 256 GB SSD Intel UHD Graphics 620 15.6\" Windows 10 Home 64-bit\n",
      "shipping: $2.99 Shipping\n",
      "brand: Acer Laptop Swift 3 SF315-52-81HD Intel Core i7 8th Gen 8550U (1.80 GHz) 8 GB Memory 256 GB SSD Intel UHD Graphics 620 15.6\" Windows 10 Home 64-bit\n",
      "product_name: Acer Laptop Swift 3 SF315-52-81HD Intel Core i7 8th Gen 8550U (1.80 GHz) 8 GB Memory 256 GB SSD Intel UHD Graphics 620 15.6\" Windows 10 Home 64-bit\n",
      "shipping: Free Shipping\n",
      "brand: DELL Laptop XPS 15-9570 Intel Core i7 8th Gen 8750H (2.20 GHz) 8 GB Memory 256 GB SSD NVIDIA GeForce GTX 1050 Ti 15.6\" InfinityEdge IPS Windows 10 Pro 64-bit Newegg Exclusive\n",
      "product_name: DELL Laptop XPS 15-9570 Intel Core i7 8th Gen 8750H (2.20 GHz) 8 GB Memory 256 GB SSD NVIDIA GeForce GTX 1050 Ti 15.6\" InfinityEdge IPS Windows 10 Pro 64-bit Newegg Exclusive\n",
      "shipping: $0.99 Shipping\n",
      "brand: ASUS VivoBook S15 15.6\" Full HD NanoEdge Bezel, Whiskey Lake Intel Core i5-8265U Processor, 8 GB DDR4, 256 GB SSD, Windows 10 - S530FA-DB51-IG, Icicle Gold Slim and Portable Laptop,\n",
      "product_name: ASUS VivoBook S15 15.6\" Full HD NanoEdge Bezel, Whiskey Lake Intel Core i5-8265U Processor, 8 GB DDR4, 256 GB SSD, Windows 10 - S530FA-DB51-IG, Icicle Gold Slim and Portable Laptop,\n",
      "shipping: Free Shipping\n",
      "brand: Lenovo Laptop IdeaPad 330 81D2005CUS AMD Ryzen 5 2500U (2.00 GHz) 8 GB Memory 256 GB SSD AMD Radeon Vega 8 15.6\" Windows 10 Home 64-Bit\n",
      "product_name: Lenovo Laptop IdeaPad 330 81D2005CUS AMD Ryzen 5 2500U (2.00 GHz) 8 GB Memory 256 GB SSD AMD Radeon Vega 8 15.6\" Windows 10 Home 64-Bit\n",
      "shipping: $2.99 Shipping\n",
      "brand: ASUS VivoBook S Intel Core i5-8250U Processor, 8 GB DDR4 RAM, 256 GB SSD, NVIDIA GeForce MX150 15.6\" FHD WideView Display, ASUS NanoEdge Bezel, Metal Cover, FingerPrint Ultra Thin and Portable Laptop\n",
      "product_name: ASUS VivoBook S Intel Core i5-8250U Processor, 8 GB DDR4 RAM, 256 GB SSD, NVIDIA GeForce MX150 15.6\" FHD WideView Display, ASUS NanoEdge Bezel, Metal Cover, FingerPrint Ultra Thin and Portable Laptop\n",
      "shipping: $2.99 Shipping\n",
      "brand: DELL Laptop Inspiron 15 5570 i5570-7279SLV Intel Core i7 8th Gen 8550U (1.80 GHz) 8 GB Memory 256 GB SSD Intel UHD Graphics 620 15.6\" FHD 1920 x 1080 Windows 10 Home 64-bit\n",
      "product_name: DELL Laptop Inspiron 15 5570 i5570-7279SLV Intel Core i7 8th Gen 8550U (1.80 GHz) 8 GB Memory 256 GB SSD Intel UHD Graphics 620 15.6\" FHD 1920 x 1080 Windows 10 Home 64-bit\n",
      "shipping: Free Shipping\n",
      "brand: Huawei Laptop MateBook D 53010CRG AMD Ryzen 5 2500U (2.00 GHz) 8 GB Memory 256 GB SSD AMD Radeon Vega 8 14.0\" Touchscreen Windows 10 Home 64-bit\n",
      "product_name: Huawei Laptop MateBook D 53010CRG AMD Ryzen 5 2500U (2.00 GHz) 8 GB Memory 256 GB SSD AMD Radeon Vega 8 14.0\" Touchscreen Windows 10 Home 64-bit\n",
      "shipping: $2.99 Shipping\n",
      "brand: Acer Laptop Swift 3 SF314-54-56L8 Intel Core i5 8th Gen 8250U (1.60 GHz) 8 GB Memory 256 GB SSD Intel UHD Graphics 620 14.0\" IPS Windows 10 Home 64-Bit\n",
      "product_name: Acer Laptop Swift 3 SF314-54-56L8 Intel Core i5 8th Gen 8250U (1.60 GHz) 8 GB Memory 256 GB SSD Intel UHD Graphics 620 14.0\" IPS Windows 10 Home 64-Bit\n",
      "shipping: $7.99 Shipping\n",
      "brand: SAMSUNG Chromebook Pro XE510C25-K01US Chromebook Intel Core M3 6Y30 (0.90 GHz) 4 GB LPDDR3 Memory 32 GB eMMC 12.3\" Touchscreen Chrome OS\n",
      "product_name: SAMSUNG Chromebook Pro XE510C25-K01US Chromebook 12.3\" Chrome OS\n",
      "shipping: $2.99 Shipping\n"
     ]
    }
   ],
   "source": [
    "for container in containers:\n",
    "    brand = container.img[\"title\"]\n",
    "    \n",
    "    title_container = container.findAll(\"a\", {\"class\": \"item-title\"})\n",
    "    product_name = title_container[0].text\n",
    "    \n",
    "    shipping_container = container.findAll(\"li\", {\"class\": \"price-ship\"})\n",
    "    shipping = shipping_container[0].text.strip()\n",
    "    \n",
    "    print(\"brand: \" + brand)\n",
    "    print(\"product_name: \" + product_name)\n",
    "    print(\"shipping: \" + shipping)\n",
    "    \n",
    "    f.write(brand + \",\" + product_name.replace(\",\", \"|\") + \",\" + shipping + \"\\n\")\n",
    "f.close()"
   ]
  },
  {
   "cell_type": "code",
   "execution_count": null,
   "metadata": {},
   "outputs": [],
   "source": []
  }
 ],
 "metadata": {
  "kernelspec": {
   "display_name": "Python 3",
   "language": "python",
   "name": "python3"
  },
  "language_info": {
   "codemirror_mode": {
    "name": "ipython",
    "version": 3
   },
   "file_extension": ".py",
   "mimetype": "text/x-python",
   "name": "python",
   "nbconvert_exporter": "python",
   "pygments_lexer": "ipython3",
   "version": "3.6.4"
  }
 },
 "nbformat": 4,
 "nbformat_minor": 2
}
