{
 "cells": [
  {
   "cell_type": "code",
   "execution_count": 1,
   "metadata": {},
   "outputs": [
    {
     "name": "stdout",
     "output_type": "stream",
     "text": [
      "1.Sholay(1975)\n",
      "2.Dilwale Dulhania Le Jayenge(1995)\n",
      "3.Mother India(1957)\n",
      "4.Padosan(1968)\n",
      "5.Anand(1971)\n",
      "6.Hera Pheri(2000)\n",
      "7.Taare Zameen Par(2007)\n",
      "8.Pushpak(1987)\n",
      "9.Eeshwar(1989)\n",
      "10.Deewaar(1975)\n",
      "11.Gol Maal(1979)\n",
      "12.Barfi!(2012)\n",
      "13.Rang De Basanti(2006)\n",
      "14.Munna Bhai M.B.B.S.(2003)\n",
      "15.Swades(2004)\n",
      "16.Jo Jeeta Wohi Sikandar(1992)\n",
      "17.Guru(2007)\n",
      "18.Indian(1996)\n",
      "19.Baghban(2003)\n",
      "20.Krantiveer(1994)\n",
      "21.Silsila(1981)\n",
      "22.Andaz Apna Apna(1994)\n",
      "23.Kaala Patthar(1979)\n",
      "24.Kabhi Haan Kabhi Naa(1994)\n"
     ]
    }
   ],
   "source": [
    "import bs4\n",
    "import urllib.request as url\n",
    "\n",
    "page = url.urlopen('https://www.imdb.com/list/ls052958717/')\n",
    "\n",
    "webpage = bs4.BeautifulSoup(page, 'lxml')\n",
    "\n",
    "'''\n",
    "title = webpage.find('h3', class_='lister-item-header')\n",
    "print(\"Movie - \",title.text.replace('\\n',''))\n",
    "rating = webpage.find('span', class_='ipl-rating-star__rating')\n",
    "print(\"Rating - \",rating.text)\n",
    "div = webpage.find('div', class_='ipl-rating-widget')\n",
    "p = div.findNextSibling()\n",
    "print(\"Summary - \",p.text.replace('\\n','').strip())\n",
    "'''\n",
    "\n",
    "title = webpage.findAll('h3', class_='lister-item-header')\n",
    "for m in title:\n",
    "    print(m.text.replace('\\n',''))"
   ]
  },
  {
   "cell_type": "code",
   "execution_count": null,
   "metadata": {},
   "outputs": [],
   "source": []
  }
 ],
 "metadata": {
  "kernelspec": {
   "display_name": "Python 3",
   "language": "python",
   "name": "python3"
  },
  "language_info": {
   "codemirror_mode": {
    "name": "ipython",
    "version": 3
   },
   "file_extension": ".py",
   "mimetype": "text/x-python",
   "name": "python",
   "nbconvert_exporter": "python",
   "pygments_lexer": "ipython3",
   "version": "3.6.4"
  }
 },
 "nbformat": 4,
 "nbformat_minor": 2
}
