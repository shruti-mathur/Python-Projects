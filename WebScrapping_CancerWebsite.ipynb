{
 "cells": [
  {
   "cell_type": "code",
   "execution_count": 1,
   "metadata": {},
   "outputs": [],
   "source": [
    "import requests\n",
    "import bs4"
   ]
  },
  {
   "cell_type": "code",
   "execution_count": 9,
   "metadata": {},
   "outputs": [],
   "source": [
    "x = requests.get('https://www.cancer.org/')"
   ]
  },
  {
   "cell_type": "code",
   "execution_count": 10,
   "metadata": {},
   "outputs": [],
   "source": [
    "soup = bs4.BeautifulSoup(x.text, 'lxml')"
   ]
  },
  {
   "cell_type": "code",
   "execution_count": 11,
   "metadata": {},
   "outputs": [
    {
     "data": {
      "text/plain": [
       "bs4.BeautifulSoup"
      ]
     },
     "execution_count": 11,
     "metadata": {},
     "output_type": "execute_result"
    }
   ],
   "source": [
    "type(soup)"
   ]
  },
  {
   "cell_type": "code",
   "execution_count": 12,
   "metadata": {},
   "outputs": [],
   "source": [
    "y = soup.select('title')"
   ]
  },
  {
   "cell_type": "code",
   "execution_count": 13,
   "metadata": {},
   "outputs": [
    {
     "data": {
      "text/plain": [
       "[<title>American Cancer Society | Information and Resources about for Cancer: Breast, Colon, Lung, Prostate, Skin</title>,\n",
       " <title>double-chat-bubble</title>,\n",
       " <title>double-chat-bubble</title>,\n",
       " <title>car</title>,\n",
       " <title>phoneline</title>,\n",
       " <title>bed</title>]"
      ]
     },
     "execution_count": 13,
     "metadata": {},
     "output_type": "execute_result"
    }
   ],
   "source": [
    "y"
   ]
  },
  {
   "cell_type": "code",
   "execution_count": 14,
   "metadata": {},
   "outputs": [
    {
     "data": {
      "text/plain": [
       "<title>American Cancer Society | Information and Resources about for Cancer: Breast, Colon, Lung, Prostate, Skin</title>"
      ]
     },
     "execution_count": 14,
     "metadata": {},
     "output_type": "execute_result"
    }
   ],
   "source": [
    "y[0]"
   ]
  },
  {
   "cell_type": "code",
   "execution_count": 15,
   "metadata": {},
   "outputs": [
    {
     "data": {
      "text/plain": [
       "'American Cancer Society | Information and Resources about for Cancer: Breast, Colon, Lung, Prostate, Skin'"
      ]
     },
     "execution_count": 15,
     "metadata": {},
     "output_type": "execute_result"
    }
   ],
   "source": [
    "y[0].getText()"
   ]
  },
  {
   "cell_type": "code",
   "execution_count": 16,
   "metadata": {},
   "outputs": [
    {
     "data": {
      "text/plain": [
       "[<div class=\"nav-wrap\">\n",
       " <div class=\"mobile-nav-wrapper\">\n",
       " <ul class=\"nav navbar-nav\">\n",
       " <li><a href=\"/cancer.html\">Cancer A-Z</a></li>\n",
       " <li><a href=\"/healthy.html\">Stay Healthy</a></li>\n",
       " <li><a href=\"/treatment.html\">Treatment &amp; Support</a></li>\n",
       " <li><a href=\"/research.html\">Our Research</a></li>\n",
       " <li><a href=\"/involved.html\">Get Involved</a></li>\n",
       " <li><a href=\"/our-partners.html\">Our Partners</a></li>\n",
       " <li><a href=\"/about-us.html\">About Us</a></li>\n",
       " </ul>\n",
       " <div class=\"mobile-lang nav-lang\">\n",
       " <ul class=\"nav navbar-nav\">\n",
       " <li><a href=\"/latest-news.html\">News</a></li>\n",
       " </ul>\n",
       " <span class=\"input select\">\n",
       " <select class=\"cs-select cs-skin-border\" id=\"site-lang\" name=\"site-lang\" title=\"Select Language\">\n",
       " <option selected=\"\" value=\"/\">English</option>\n",
       " <option value=\"/es/\">Español</option>\n",
       " <option value=\"/cancer-information-in-other-languages.html\">More Languages</option>\n",
       " </select>\n",
       " </span>\n",
       " <div class=\"mobile-donate\"><a class=\"btn btn-red navbar-btn\" href=\"https://donate.cancer.org/index?lang=en\">Donate</a></div>\n",
       " <div class=\"mobile-livechat\">\n",
       " <div class=\"row\">\n",
       " <div class=\"col-xs-12 text-center\">\n",
       " <div class=\"live-chat\">\n",
       " <a href=\"https://livechat.boldchat.com/aid/5386287375352862963/bc.chat?resize=true&amp;cwdid=1134019502191338137&amp;url=https%3A//www.cancer.org/\" onclick=\"window.open((window.pageViewer &amp;&amp; pageViewer.link || function(link){return link;})(this.href + (this.href.indexOf('?')&gt;=0 ? '&amp;' : '?') + 'url=' + escape(document.location.href)), 'Chat4972879359643679338', 'toolbar=0,scrollbars=1,location=0,statusbar=0,menubar=0,resizable=1,width=640,height=480');return false;\" target=\"_blank\">\n",
       " <span class=\"icon double-chat-bubble\"><?xml version=\"1.0\" encoding=\"UTF-8\"?>\n",
       " <!DOCTYPE svg PUBLIC \"-//W3C//DTD SVG 1.1//EN\" \"http://www.w3.org/Graphics/SVG/1.1/DTD/svg11.dtd\">\n",
       " \n",
       " <svg height=\"36\" version=\"1.1\" viewbox=\"0 0 18 16\" width=\"36\" xmlns=\"http://www.w3.org/2000/svg\" xmlns:xlink=\"http://www.w3.org/1999/xlink\">\n",
       " <title>double-chat-bubble</title>\n",
       " <path class=\"path1\" d=\"M12.351 3.862h-10.667c-0.003-0-0.007-0-0.011-0-0.916 0-1.66 0.736-1.673 1.649l-0 6.626c0.013 0.914 0.757 1.651 1.673 1.651 0.004 0 0.008-0 0.012-0h1.122v1.201c0.157 0.685 0.954 1.505 2.246 0.64l2.1-1.841h5.199c0.003 0 0.007 0 0.011 0 0.916 0 1.66-0.736 1.673-1.649l0-6.626c-0.013-0.914-0.757-1.651-1.673-1.651-0.004 0-0.008 0-0.012 0zM12.912 11.554c0 0.62-0.503 1.123-1.123 1.123h-4.985l-2.414 2.122c-0.505 0.314-0.472-0.483-0.472-0.483v-0.842c0-0.359 0-0.842 0-0.842h-1.673c-0.62 0-1.123-0.503-1.123-1.123v-5.457c0-0.62 0.503-1.123 1.123-1.123h9.533c0.62 0 1.123 0.503 1.123 1.123v5.502zM16.258 0h-10.105c-0.911 0.006-1.649 0.74-1.662 1.649l-0 1.124h1.123v-0.528c0-0.62 0.503-1.123 1.123-1.123h8.982c0.62 0 1.123 0.503 1.123 1.123v5.446c0 0.62-0.503 1.123-1.123 1.123h-0.561v1.123h1.123c0.003 0 0.007 0 0.011 0 0.924 0 1.673-0.749 1.673-1.673 0-0.008-0-0.016-0-0.024l0-6.59c-0.012-0.914-0.757-1.651-1.673-1.651-0.012 0-0.024 0-0.036 0zM10.105 7.175h-6.187c-0.31 0-0.561 0.251-0.561 0.561s0.251 0.561 0.561 0.561h6.187c0.31 0 0.561-0.251 0.561-0.561s-0.251-0.561-0.561-0.561zM8.982 9.42h-5.064c-0.31 0-0.561 0.251-0.561 0.561s0.251 0.561 0.561 0.561h5.064c0.322 0 0.584-0.261 0.584-0.584s-0.261-0.584-0.584-0.584z\"></path>\n",
       " </svg></span>\n",
       " <script language=\"JavaScript\" type=\"text/javascript\">\n",
       "                                             document.write(unescape('%3Cscript language=\"JavaScript\" type=\"text/javascript\" src=\"' + (('https:' == document.location.protocol) ? 'https:' : 'http:') + '//cbi.boldchat.com/aid/5386287375352862963/bc.cbhs\"%3E%3C/script%3E'));\n",
       "                                         </script>\n",
       " <script language=\"JavaScript\" type=\"text/javascript\">\n",
       "                                             bt_showChatHTML('Live Chat', 'Live Chat');\n",
       "                                         </script>\n",
       " <noscript>Live Chat</noscript>\n",
       " </a>\n",
       " </div>\n",
       " </div>\n",
       " </div>\n",
       " </div>\n",
       " <div class=\"mobile-contact\">\n",
       " <a href=\"tel:800.227.2345\">\n",
       " <div class=\"row\">\n",
       " <div class=\"col-xs-6 col-sm-6 text-right\">\n",
       " <p>Cancer Helpline</p>\n",
       " </div>\n",
       " <div class=\"col-xs-6 col-sm-6 text-left\">\n",
       " <p>800.227.2345</p>\n",
       " </div>\n",
       " </div>\n",
       " <span aria-hidden=\"true\" class=\"ico ico-phone\"><span class=\"sr-only\">Phone</span></span>\n",
       " </a>\n",
       " </div>\n",
       " </div>\n",
       " </div>\n",
       " <a class=\"search-toggle\" href=\"#\"><span aria-hidden=\"true\" class=\"ico-search\"><span class=\"sr-only\">Search</span></span></a>\n",
       " <div class=\"search-overlay\">\n",
       " <div class=\"container-fluid\">\n",
       " <form action=\"/content/cancer/en/search.html\" class=\"search\" role=\"search\">\n",
       " <div class=\"form-group\">\n",
       " <input class=\"form-control\" name=\"q\" placeholder=\"How can we help you?\" title=\"Search\" type=\"text\"/>\n",
       " <button class=\"btn btn-search btn-blue\" type=\"submit\">Search</button>\n",
       " </div>\n",
       " </form>\n",
       " </div>\n",
       " </div>\n",
       " </div>]"
      ]
     },
     "execution_count": 16,
     "metadata": {},
     "output_type": "execute_result"
    }
   ],
   "source": [
    "soup.select('.nav-wrap')"
   ]
  },
  {
   "cell_type": "code",
   "execution_count": 17,
   "metadata": {},
   "outputs": [
    {
     "name": "stdout",
     "output_type": "stream",
     "text": [
      "\n",
      "\n",
      "\n",
      "Cancer A-Z\n",
      "Stay Healthy\n",
      "Treatment & Support\n",
      "Our Research\n",
      "Get Involved\n",
      "Our Partners\n",
      "About Us\n",
      "\n",
      "\n",
      "\n",
      "News\n",
      "\n",
      "\n",
      "\n",
      "English\n",
      "Español\n",
      "More Languages\n",
      "\n",
      "\n",
      "Donate\n",
      "\n",
      "\n",
      "\n",
      "\n",
      "\n",
      "\n",
      "\n",
      "\n",
      "double-chat-bubble\n",
      "\n",
      "\n",
      "\r\n",
      "                                            document.write(unescape('%3Cscript language=\"JavaScript\" type=\"text/javascript\" src=\"' + (('https:' == document.location.protocol) ? 'https:' : 'http:') + '//cbi.boldchat.com/aid/5386287375352862963/bc.cbhs\"%3E%3C/script%3E'));\r\n",
      "                                        \n",
      "\r\n",
      "                                            bt_showChatHTML('Live Chat', 'Live Chat');\r\n",
      "                                        \n",
      "Live Chat\n",
      "\n",
      "\n",
      "\n",
      "\n",
      "\n",
      "\n",
      "\n",
      "\n",
      "\n",
      "Cancer Helpline\n",
      "\n",
      "\n",
      "800.227.2345\n",
      "\n",
      "\n",
      "Phone\n",
      "\n",
      "\n",
      "\n",
      "\n",
      "Search\n",
      "\n",
      "\n",
      "\n",
      "\n",
      "\n",
      "Search\n",
      "\n",
      "\n",
      "\n",
      "\n",
      "\n"
     ]
    }
   ],
   "source": [
    " for i in soup.select('.nav-wrap'):\n",
    "        print(i.text)"
   ]
  },
  {
   "cell_type": "code",
   "execution_count": 18,
   "metadata": {},
   "outputs": [
    {
     "data": {
      "text/plain": [
       "[<div class=\"image parbase section\">\n",
       " <div class=\"img-wrapper\">\n",
       " <div id=\"cq-image-jsp-/content/cancer/en/lightbox-folder/2018-eoy-donation-lightbox/jcr:content/par/image\"><img alt=\"mother in headscarf and daughter sitting on a couch\" class=\"cq-dd-image\" src=\"/lightbox-folder/2018-eoy-donation-lightbox/_jcr_content/par/image.img.jpg/1554414041818.jpg\" title=\"Honor Memorial Lightbox\"/></div></div>\n",
       " <script type=\"text/javascript\">\n",
       "     (function() {\n",
       "         var imageDiv = document.getElementById(\"cq\\u002Dimage\\u002Djsp\\u002D\\/content\\/cancer\\/en\\/lightbox\\u002Dfolder\\/2018\\u002Deoy\\u002Ddonation\\u002Dlightbox\\/jcr:content\\/par\\/image\");\n",
       "         var imageEvars = '{ imageLink: \"\", imageAsset: \"/content/dam/cancer-org/images/photographs/campaigns/lightbox/honor-memorial-lightbox.jpg\", imageTitle: \"Honor Memorial Lightbox\" }';\n",
       "         var tagNodes = imageDiv.getElementsByTagName('A');\n",
       "         for (var i = 0; i < tagNodes.length; i++) {\n",
       "             var link = tagNodes.item(i); \n",
       "             link.setAttribute('onclick', 'CQ_Analytics.record({event: \"imageClick\", values: ' + imageEvars + ', collect: false, options: { obj: this }, componentPath: \"foundation\\/components\\/image\"})');\n",
       "         }\n",
       "         \n",
       "     })();\n",
       " </script>\n",
       " </div>]"
      ]
     },
     "execution_count": 18,
     "metadata": {},
     "output_type": "execute_result"
    }
   ],
   "source": [
    "soup.select('.image')"
   ]
  },
  {
   "cell_type": "code",
   "execution_count": null,
   "metadata": {},
   "outputs": [],
   "source": []
  }
 ],
 "metadata": {
  "kernelspec": {
   "display_name": "Python 3",
   "language": "python",
   "name": "python3"
  },
  "language_info": {
   "codemirror_mode": {
    "name": "ipython",
    "version": 3
   },
   "file_extension": ".py",
   "mimetype": "text/x-python",
   "name": "python",
   "nbconvert_exporter": "python",
   "pygments_lexer": "ipython3",
   "version": "3.6.4"
  }
 },
 "nbformat": 4,
 "nbformat_minor": 2
}
